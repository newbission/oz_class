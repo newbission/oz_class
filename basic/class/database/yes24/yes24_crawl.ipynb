{
 "cells": [
  {
   "cell_type": "markdown",
   "metadata": {},
   "source": [
    "### YES24 크롤링"
   ]
  },
  {
   "cell_type": "code",
   "execution_count": 1,
   "metadata": {},
   "outputs": [
    {
     "data": {
      "text/plain": [
       "'/Users/mac/.wdm/drivers/chromedriver/mac64/121.0.6167.85/chromedriver-mac-x64/chromedriver'"
      ]
     },
     "execution_count": 1,
     "metadata": {},
     "output_type": "execute_result"
    }
   ],
   "source": [
    "from webdriver_manager.chrome import ChromeDriverManager\n",
    "ChromeDriverManager().install()"
   ]
  },
  {
   "cell_type": "code",
   "execution_count": 2,
   "metadata": {},
   "outputs": [],
   "source": [
    "from selenium import webdriver\n",
    "browser = webdriver.Chrome()"
   ]
  },
  {
   "cell_type": "code",
   "execution_count": 3,
   "metadata": {},
   "outputs": [
    {
     "name": "stdout",
     "output_type": "stream",
     "text": [
      "**********현재 1 페이지 수집 중 입니다. **********\n",
      "**********현재 2 페이지 수집 중 입니다. **********\n",
      "**********현재 3 페이지 수집 중 입니다. **********\n"
     ]
    }
   ],
   "source": [
    "# 3페이지까지 수집\n",
    "# https://www.yes24.com/Product/Category/BestSeller?categoryNumber=001&pageNumber=2&pageSize=24\n",
    "from selenium.webdriver.common.by import By\n",
    "import time\n",
    "links = []\n",
    "for i in range(1,4):\n",
    "  print(f'{\"*\" * 10}현재 {i} 페이지 수집 중 입니다. {\"*\" * 10}')\n",
    "  url = f'https://www.yes24.com/Product/Category/BestSeller?categoryNumber=001&pageNumber={i}&pageSize=24'\n",
    "  browser.get(url)\n",
    "  \n",
    "  time.sleep(1)\n",
    "  datas = browser.find_elements(By.CLASS_NAME, 'gd_name')\n",
    "  for data in datas:\n",
    "    links.append(data.get_attribute('href'))\n",
    "  time.sleep(2)"
   ]
  },
  {
   "cell_type": "code",
   "execution_count": 4,
   "metadata": {},
   "outputs": [],
   "source": [
    "# for link in links:\n",
    "#   # 상세 페이지로 이동\n",
    "#   browser.get(link)\n",
    "\n",
    "browser.get(links[1])\n"
   ]
  },
  {
   "cell_type": "code",
   "execution_count": 10,
   "metadata": {},
   "outputs": [],
   "source": [
    "# db 연동\n",
    "import pymysql\n",
    "import re\n",
    "from datetime import datetime\n",
    "\n",
    "conn = pymysql.connect(\n",
    "  host='localhost',\n",
    "  user='root',\n",
    "  password='root',\n",
    "  db='yes24',\n",
    "  charset='utf8mb4',\n",
    "  cursorclass=pymysql.cursors.DictCursor\n",
    ")\n",
    "\n",
    "with conn.cursor() as cur:\n",
    "  for link in links:\n",
    "    browser.get(link)\n",
    "    title = browser.find_element(By.CLASS_NAME, 'gd_name').text\n",
    "    # try:\n",
    "    #   subtitle = browser.find_element(By.CLASS_NAME, 'gd_nameE').text\n",
    "    # except:\n",
    "    #   subtitle = None\n",
    "    author = browser.find_element(By.CSS_SELECTOR, '.gd_auth a').text\n",
    "    publisher = browser.find_element(By.CLASS_NAME, 'gd_pub').text\n",
    "    publishing = browser.find_element(By.CLASS_NAME, 'gd_date').text\n",
    "\n",
    "    match = re.search(r'(\\d+)년 (\\d+)월 (\\d+)일', publishing)\n",
    "\n",
    "    if match:\n",
    "      year, month, day = match.groups()\n",
    "      data_obj = datetime(int(year), int(month), int(day))\n",
    "      publishing = data_obj.strftime(\"%Y-%m-%d\")\n",
    "    else:\n",
    "      publishing = '2023-01-01'\n",
    "\n",
    "    try:\n",
    "      rating = browser.find_element(By.CSS_SELECTOR, '.gd_rating .yes_b').text\n",
    "    except:\n",
    "      rating = '0'\n",
    "      \n",
    "    try:\n",
    "      review = browser.find_element(By.CSS_SELECTOR, '.gd_reviewCount .txC_blue').text\n",
    "      review = int(review.replace(',',''))\n",
    "    except:\n",
    "      review = 0\n",
    "\n",
    "    sales = browser.find_element(By.CLASS_NAME, 'gd_sellNum').text.split(' ')[2]\n",
    "    sales = int(sales.replace(',',''))\n",
    "    \n",
    "    price = browser.find_element(By.CSS_SELECTOR, '.nor_price .yes_m').text\n",
    "    price = int(price.replace(',',''))\n",
    "\n",
    "    full_text = browser.find_element(By.CSS_SELECTOR, '.gd_best dd').text\n",
    "    parts = full_text.split(' | ')\n",
    "    ranking = 0\n",
    "    ranking_weeks = 0\n",
    "    if len(parts) > 1:\n",
    "      try:\n",
    "        ranking_part = parts[0]\n",
    "        ranking = ''.join(filter(str.isdigit, ranking_part))\n",
    "      except:\n",
    "        pass\n",
    "\n",
    "      try:\n",
    "        ranking_weeks_part = parts[1]\n",
    "        ranking_weeks = ''.join(filter(str.isdigit, ranking_weeks_part.split()[-1]))\n",
    "      except:\n",
    "        pass\n",
    "    sql = '''INSERT INTO Books(\n",
    "      title, author, publisher, publishing, rating, review, sales, price, ranking, ranking_weeks)\n",
    "      VALUES(%s, %s, %s, %s, %s, %s, %s, %s, %s, %s)\n",
    "      '''\n",
    "    \n",
    "    cur.execute(sql, (title, author, publisher, publishing, rating, review, sales, price, ranking, ranking_weeks))\n",
    "    conn.commit()\n",
    "    time.sleep(2)\n",
    "  "
   ]
  },
  {
   "cell_type": "code",
   "execution_count": null,
   "metadata": {},
   "outputs": [
    {
     "name": "stdout",
     "output_type": "stream",
     "text": [
      "None <class 'NoneType'>\n"
     ]
    }
   ],
   "source": [
    "\n"
   ]
  }
 ],
 "metadata": {
  "kernelspec": {
   "display_name": ".venv",
   "language": "python",
   "name": "python3"
  },
  "language_info": {
   "codemirror_mode": {
    "name": "ipython",
    "version": 3
   },
   "file_extension": ".py",
   "mimetype": "text/x-python",
   "name": "python",
   "nbconvert_exporter": "python",
   "pygments_lexer": "ipython3",
   "version": "3.12.1"
  }
 },
 "nbformat": 4,
 "nbformat_minor": 2
}
