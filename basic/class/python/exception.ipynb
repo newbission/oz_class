{
 "cells": [
  {
   "cell_type": "code",
   "execution_count": 7,
   "metadata": {},
   "outputs": [
    {
     "name": "stdout",
     "output_type": "stream",
     "text": [
      "exception:: 악~~ 야생의 에러가 발생했다!!\n",
      "이건 항상 맨 마지막에 출력 무조건!!\n"
     ]
    }
   ],
   "source": [
    "# 사용자 정의 에러\n",
    "class ABCException (Exception):\n",
    "    def __init__(self, message='Custom Error!!'):\n",
    "        super().__init__(message)\n",
    "\n",
    "try:\n",
    "    a = 6\n",
    "    if a > 5:\n",
    "        raise ABCException('악~~ 야생의 에러가 발생했다!!')\n",
    "except ABCException as e:\n",
    "    print(\"exception::\", e)\n",
    "else:\n",
    "    print(\"성공할때만 출력\")\n",
    "finally:\n",
    "    print(\"이건 항상 맨 마지막에 출력 무조건!!\")\n"
   ]
  }
 ],
 "metadata": {
  "kernelspec": {
   "display_name": "Python 3",
   "language": "python",
   "name": "python3"
  },
  "language_info": {
   "codemirror_mode": {
    "name": "ipython",
    "version": 3
   },
   "file_extension": ".py",
   "mimetype": "text/x-python",
   "name": "python",
   "nbconvert_exporter": "python",
   "pygments_lexer": "ipython3",
   "version": "3.12.1"
  }
 },
 "nbformat": 4,
 "nbformat_minor": 2
}
