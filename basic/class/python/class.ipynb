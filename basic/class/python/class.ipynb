{
 "cells": [
  {
   "cell_type": "markdown",
   "metadata": {},
   "source": [
    "# Class\n",
    "객체\n",
    "\n",
    "```python\n",
    "class ClassName:\n",
    "    def method(self):\n",
    "        code\n",
    "```"
   ]
  },
  {
   "cell_type": "code",
   "execution_count": 8,
   "metadata": {},
   "outputs": [
    {
     "name": "stdout",
     "output_type": "stream",
     "text": [
      "안녕하세요~\n"
     ]
    },
    {
     "ename": "TypeError",
     "evalue": "Person.hello() missing 1 required positional argument: 'self'",
     "output_type": "error",
     "traceback": [
      "\u001b[0;31m---------------------------------------------------------------------------\u001b[0m",
      "\u001b[0;31mTypeError\u001b[0m                                 Traceback (most recent call last)",
      "Cell \u001b[0;32mIn[8], line 6\u001b[0m\n\u001b[1;32m      4\u001b[0m p \u001b[38;5;241m=\u001b[39m Person()\n\u001b[1;32m      5\u001b[0m p\u001b[38;5;241m.\u001b[39mhello()\n\u001b[0;32m----> 6\u001b[0m \u001b[43mPerson\u001b[49m\u001b[38;5;241;43m.\u001b[39;49m\u001b[43mhello\u001b[49m\u001b[43m(\u001b[49m\u001b[43m)\u001b[49m\n",
      "\u001b[0;31mTypeError\u001b[0m: Person.hello() missing 1 required positional argument: 'self'"
     ]
    }
   ],
   "source": [
    "class Person:\n",
    "    def hello(self):\n",
    "        print(\"안녕하세요~\")\n",
    "p = Person()\n",
    "p.hello()"
   ]
  },
  {
   "cell_type": "code",
   "execution_count": 4,
   "metadata": {},
   "outputs": [
    {
     "name": "stdout",
     "output_type": "stream",
     "text": [
      "4524150320 4524146960\n"
     ]
    }
   ],
   "source": [
    "# 과연 new 일까?\n",
    "class Person:\n",
    "    def hello(self):\n",
    "        print(\"안녕하세요~\")\n",
    "p = Person()\n",
    "p2 = Person()\n",
    "\n",
    "print(id(p), id(p2))"
   ]
  },
  {
   "cell_type": "code",
   "execution_count": 6,
   "metadata": {},
   "outputs": [
    {
     "name": "stdout",
     "output_type": "stream",
     "text": [
      "초기화완료\n",
      "초기화완료\n",
      "안녕하세요 Faker 입니다.\n",
      "안녕하세요 Oner 입니다.\n"
     ]
    }
   ],
   "source": [
    "# Class 생성시 초기화\n",
    "class Person:\n",
    "    def __init__(self, name):\n",
    "        self.name = name\n",
    "    def greeting(self):\n",
    "        print(f\"안녕하세요 {self.name} 입니다.\")\n",
    "\n",
    "p1 = Person(\"Faker\")\n",
    "p2 = Person(\"Oner\")\n",
    "p1.greeting()\n",
    "p2.greeting()"
   ]
  },
  {
   "cell_type": "code",
   "execution_count": 13,
   "metadata": {},
   "outputs": [
    {
     "name": "stdout",
     "output_type": "stream",
     "text": [
      "park 를 향해 150스피드로 달리고 있습니다.\n"
     ]
    }
   ],
   "source": [
    "# 상속\n",
    "class Car (object):\n",
    "    maxspeed = 300\n",
    "    maxpeople = 5\n",
    "    def move(self ,x):\n",
    "        print(f\"{x}스피드로 달리고 있습니다.\")\n",
    "    def stop(self):\n",
    "        print(\"멈췄습니다.\")\n",
    "\n",
    "class HybridCar (Car):\n",
    "    battery = 1000\n",
    "    batteryKM = 300\n",
    "    def move(self, x, to):\n",
    "        print(to, \"를 향해\", end=\" \")\n",
    "        super().move(x)\n",
    "\n",
    "k5 = HybridCar()\n",
    "k5.move(150, 'park')"
   ]
  },
  {
   "cell_type": "code",
   "execution_count": 7,
   "metadata": {},
   "outputs": [
    {
     "name": "stdout",
     "output_type": "stream",
     "text": [
      "['__abs__', '__add__', '__and__', '__bool__', '__ceil__', '__class__', '__delattr__', '__dir__', '__divmod__', '__doc__', '__eq__', '__float__', '__floor__', '__floordiv__', '__format__', '__ge__', '__getattribute__', '__getnewargs__', '__getstate__', '__gt__', '__hash__', '__index__', '__init__', '__init_subclass__', '__int__', '__invert__', '__le__', '__lshift__', '__lt__', '__mod__', '__mul__', '__ne__', '__neg__', '__new__', '__or__', '__pos__', '__pow__', '__radd__', '__rand__', '__rdivmod__', '__reduce__', '__reduce_ex__', '__repr__', '__rfloordiv__', '__rlshift__', '__rmod__', '__rmul__', '__ror__', '__round__', '__rpow__', '__rrshift__', '__rshift__', '__rsub__', '__rtruediv__', '__rxor__', '__setattr__', '__sizeof__', '__str__', '__sub__', '__subclasshook__', '__truediv__', '__trunc__', '__xor__', 'as_integer_ratio', 'bit_count', 'bit_length', 'conjugate', 'denominator', 'from_bytes', 'imag', 'is_integer', 'numerator', 'real', 'to_bytes']\n"
     ]
    }
   ],
   "source": [
    "# 매직메서드\n",
    "print(dir(int))"
   ]
  }
 ],
 "metadata": {
  "kernelspec": {
   "display_name": "Python 3",
   "language": "python",
   "name": "python3"
  },
  "language_info": {
   "codemirror_mode": {
    "name": "ipython",
    "version": 3
   },
   "file_extension": ".py",
   "mimetype": "text/x-python",
   "name": "python",
   "nbconvert_exporter": "python",
   "pygments_lexer": "ipython3",
   "version": "3.12.1"
  }
 },
 "nbformat": 4,
 "nbformat_minor": 2
}
