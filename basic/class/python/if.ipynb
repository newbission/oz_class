{
 "cells": [
  {
   "cell_type": "markdown",
   "metadata": {},
   "source": [
    "### if\n",
    "1. 들여쓰기 반드시 해줘야함\n",
    "2. 들여쓰기 공백은 일치시킬것\n",
    "3. 콜론 빼먹지 않기"
   ]
  },
  {
   "cell_type": "code",
   "execution_count": 3,
   "metadata": {},
   "outputs": [
    {
     "name": "stdout",
     "output_type": "stream",
     "text": [
      "True\n"
     ]
    }
   ],
   "source": [
    "if not '' :\n",
    "    print(True)\n",
    "else:\n",
    "    print(False)"
   ]
  },
  {
   "cell_type": "markdown",
   "metadata": {},
   "source": [
    "## 문제\n",
    "\n",
    "변수 a에 문자열을 받고 길이가 홀수면 가운데 글자 짝수면 가운데 두글자 반환\n",
    "\n"
   ]
  },
  {
   "cell_type": "code",
   "execution_count": 8,
   "metadata": {},
   "outputs": [
    {
     "name": "stdout",
     "output_type": "stream",
     "text": [
      "짝수네? we\n"
     ]
    }
   ],
   "source": [
    "a = input('문자열 입력하세요: ')\n",
    "center_idx = int(len(a)/2)\n",
    "if len(a) % 2 == 0:\n",
    "    print(f'짝수네? {a[center_idx - 1 : center_idx + 1]}')\n",
    "else:\n",
    "    print(f'홀수네? {a[center_idx]}')"
   ]
  }
 ],
 "metadata": {
  "kernelspec": {
   "display_name": "Python 3",
   "language": "python",
   "name": "python3"
  },
  "language_info": {
   "codemirror_mode": {
    "name": "ipython",
    "version": 3
   },
   "file_extension": ".py",
   "mimetype": "text/x-python",
   "name": "python",
   "nbconvert_exporter": "python",
   "pygments_lexer": "ipython3",
   "version": "3.12.1"
  }
 },
 "nbformat": 4,
 "nbformat_minor": 2
}
