{
 "cells": [
  {
   "cell_type": "markdown",
   "metadata": {},
   "source": []
  },
  {
   "cell_type": "code",
   "execution_count": 5,
   "metadata": {},
   "outputs": [
    {
     "name": "stdout",
     "output_type": "stream",
     "text": [
      "1 반복을 한다 이마리야\n",
      "2 반복을 한다 이마리야\n",
      "3 반복을 한다 이마리야\n",
      "4 반복을 한다 이마리야\n",
      "5 반복을 한다 이마리야\n",
      "6 반복을 한다 이마리야\n",
      "7 반복을 한다 이마리야\n",
      "8 반복을 한다 이마리야\n",
      "9 반복을 한다 이마리야\n",
      "10 반복을 한다 이마리야\n"
     ]
    }
   ],
   "source": [
    "i = 0\n",
    "while i < 10:\n",
    "    print(i+1, '반복을 한다 이마리야')\n",
    "    i += 1"
   ]
  },
  {
   "cell_type": "markdown",
   "metadata": {},
   "source": [
    "## for문보다 효율적인 이유\n",
    "1. 무한반복\n",
    "2. else\n"
   ]
  },
  {
   "cell_type": "code",
   "execution_count": 12,
   "metadata": {},
   "outputs": [
    {
     "name": "stdout",
     "output_type": "stream",
     "text": [
      "3\n",
      "2\n",
      "6\n",
      "1\n",
      "1\n",
      "2\n",
      "6\n",
      "2\n",
      "4\n"
     ]
    }
   ],
   "source": [
    "# 무한반복\n",
    "import random\n",
    "i = 0\n",
    "while i != 4:\n",
    "    i = random.randint(1,6)\n",
    "    print(i)"
   ]
  },
  {
   "cell_type": "code",
   "execution_count": 16,
   "metadata": {},
   "outputs": [
    {
     "name": "stdout",
     "output_type": "stream",
     "text": [
      "양파 11 개 남았습니다.\n",
      "양파 다 팔렸습니다.\n"
     ]
    }
   ],
   "source": [
    "# else in while\n",
    "양파 = 11\n",
    "while 양파 > 10:\n",
    "    print(\"양파\", 양파, \"개 남았습니다.\")\n",
    "    if 양파 == 0:\n",
    "        break\n",
    "    양파 -= 1\n",
    "else:\n",
    "    print(\"양파 다 팔렸습니다.\")"
   ]
  },
  {
   "cell_type": "code",
   "execution_count": 20,
   "metadata": {},
   "outputs": [
    {
     "name": "stdout",
     "output_type": "stream",
     "text": [
      "0\n",
      "2\n",
      "4\n",
      "6\n",
      "8\n",
      "10\n"
     ]
    }
   ],
   "source": [
    "# continue break\n",
    "i = 0\n",
    "while True:\n",
    "    print(i)\n",
    "    if i == 10:\n",
    "        break\n",
    "    elif i % 2 == 0:\n",
    "        i += 1\n",
    "    i += 1"
   ]
  },
  {
   "cell_type": "markdown",
   "metadata": {},
   "source": [
    "# 문제\n",
    "클라츠라는 사람은 주어진 수가 1이 될 때 까지 다음 작업을 반복하면 모든 수를 1로 만들 수 있다고 추측했다.\n",
    "\n",
    "> 1. 입력된 수가 짝수라면 2로 나눈다.\n",
    "> 2. 입력된 수가 홀수라면 3을 곱하고 1을 더한다.\n",
    "> 3. 위 결과로 나온 수에 같은 작업을 1일 될 때 까지 반복한다.\n",
    ">\n",
    "> ex. 입력된 수가 6이라면 6 > 3 > 10 > 5 > 16 > 8 > 4 > 2 > 1\n",
    "\n",
    "num 변수에 있는 수를 1로 만드는데 몇 번이나 작업을 반복해야하는지 출력한다."
   ]
  },
  {
   "cell_type": "code",
   "execution_count": 21,
   "metadata": {},
   "outputs": [
    {
     "name": "stdout",
     "output_type": "stream",
     "text": [
      "8\n"
     ]
    }
   ],
   "source": [
    "num = int(input('숫자를 입력해주세요: '))\n",
    "cnt = 0\n",
    "while(num != 1):\n",
    "    if num % 2 == 0:\n",
    "        num /= 2\n",
    "    else:\n",
    "        num = num * 3 + 1\n",
    "    cnt += 1\n",
    "print(cnt)"
   ]
  }
 ],
 "metadata": {
  "kernelspec": {
   "display_name": "Python 3",
   "language": "python",
   "name": "python3"
  },
  "language_info": {
   "codemirror_mode": {
    "name": "ipython",
    "version": 3
   },
   "file_extension": ".py",
   "mimetype": "text/x-python",
   "name": "python",
   "nbconvert_exporter": "python",
   "pygments_lexer": "ipython3",
   "version": "3.12.1"
  }
 },
 "nbformat": 4,
 "nbformat_minor": 2
}
