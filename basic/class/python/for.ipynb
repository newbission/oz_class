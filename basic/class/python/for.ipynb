{
 "cells": [
  {
   "cell_type": "markdown",
   "metadata": {},
   "source": [
    "```python\n",
    "for 변수 in range(횟수):\n",
    "    반복할 동작\n",
    "```"
   ]
  },
  {
   "cell_type": "code",
   "execution_count": null,
   "metadata": {},
   "outputs": [],
   "source": [
    "# for문 만들어보기\n",
    "for i in range(5):\n",
    "    print(\"반복이 된다\")"
   ]
  },
  {
   "cell_type": "code",
   "execution_count": null,
   "metadata": {},
   "outputs": [],
   "source": [
    "# foR문의 range 흐름\n",
    "for i in range(5):\n",
    "    print(\"반복문\", i)"
   ]
  },
  {
   "cell_type": "markdown",
   "metadata": {},
   "source": [
    "## range 사용방법\n",
    "> - ragne(stop) \n",
    "> - range(start, stop [, step])\n",
    "```python\n",
    "for i in range(10):\n",
    "    for j in range(1, 2):\n",
    "        for k in range(1, 10, 2):\n",
    "            print(i, j, k)\n",
    "```"
   ]
  },
  {
   "cell_type": "code",
   "execution_count": null,
   "metadata": {},
   "outputs": [],
   "source": [
    "# range 사용방법\n",
    "for i in range(5):\n",
    "    for j in range(1, 2):\n",
    "        for k in range(1, 10, 2):\n",
    "            print(i, j, k)"
   ]
  },
  {
   "cell_type": "markdown",
   "metadata": {},
   "source": [
    "그 외 방법들\n",
    "> - list를 사용하는 방법\n",
    "> - 문자열을 사용하는 방법"
   ]
  },
  {
   "cell_type": "code",
   "execution_count": 28,
   "metadata": {},
   "outputs": [
    {
     "name": "stdout",
     "output_type": "stream",
     "text": [
      "apple banana melon \n",
      "H e l l o \n",
      "o l l e H "
     ]
    }
   ],
   "source": [
    "# list\n",
    "fruits = ['apple', 'banana', 'melon']\n",
    "for fruit in fruits:\n",
    "    print(fruit, end=' ')\n",
    "print()\n",
    "\n",
    "# string\n",
    "for c in \"Hello\":\n",
    "    print(c, end=' ')\n",
    "print()\n",
    "\n",
    "#reverse\n",
    "for c in reversed(\"Hello\"):\n",
    "    print(c, end=' ')"
   ]
  },
  {
   "cell_type": "markdown",
   "metadata": {},
   "source": [
    "### 문제\n",
    "절대값 정수가 담긴 정수 변수와 그 정수의 부호를 차례로 담은 부호 변수가 있다.  \n",
    "두 변수를 이용해 실제 정수의 합을 구해주세요 (True: 양수, False: 음수)"
   ]
  },
  {
   "cell_type": "code",
   "execution_count": 29,
   "metadata": {},
   "outputs": [
    {
     "name": "stdout",
     "output_type": "stream",
     "text": [
      "13\n"
     ]
    }
   ],
   "source": [
    "정수 = [10, 5, 8]\n",
    "부호 = [True, False, True]\n",
    "합 = 0\n",
    "\n",
    "\"\"\"\n",
    "내 풀이 1\n",
    "for i in range(len(정수)):\n",
    "    if(부호[i]):\n",
    "        합 += 정수[i]\n",
    "    else:\n",
    "        합 -= 정수[i]\n",
    "\"\"\"\n",
    "for n, o in zip(정수, 부호):\n",
    "    if not o:\n",
    "        n = -n\n",
    "    합 += n\n",
    "print(합)"
   ]
  },
  {
   "cell_type": "markdown",
   "metadata": {},
   "source": [
    "# 문제\n",
    "## 붕어빵 인터네셔널은 내가 살린다 나도 이제 개발자\n",
    "> for문을 이용해 리팩토링을 해주세요  \n",
    "> 잡담 게시판에 여러분의 코드를 자랑해주세요. 깔끔한 코드 상 1명 / 노력 상 1명 스벅 쿠폰을 보내드리겠습니다."
   ]
  },
  {
   "cell_type": "code",
   "execution_count": null,
   "metadata": {},
   "outputs": [],
   "source": [
    "import random\n",
    "\n",
    "\n",
    "print(\"붕어빵 인터네셔널에 오신걸 환엽합니다! 인원감축으로 현금을 받지 못합니다 ㅠㅠ 키오스크로 주문해주시면 빠르게 만들어드리겠습니다!\")\n",
    "\n",
    "\n",
    "kiosk__loop = [1]                # for문에서 반복하기 위한 list\n",
    "for kiosk__count in kiosk__loop:\n",
    "    print('\\n\\n')\n",
    "    if kiosk__count > 5:        # 메모리 관리를 위한 반복 제한\n",
    "        print(\"이용시간 초과입니다. 다시 시작해주시기 바랍니다\")\n",
    "        break\n",
    "\n",
    "    # 주문여부 정하기\n",
    "    # S s : 주문하기\n",
    "    # E e : 나가기\n",
    "    start = input('주문하기(s) 나가기(e): ').lower()\n",
    "    if start == 's':\n",
    "        fish__names = [\"팥\", \"슈크림\", \"잡채\"]\n",
    "        fish__menu = {\n",
    "            \"팥\": 2000,\n",
    "            \"슈크림\": 2500,\n",
    "            \"잡채\": 3000\n",
    "        }\n",
    "        \n",
    "        max__name__length = max(len(name) for name in fish__names)      # 메뉴명 길이 최대값\n",
    "\n",
    "        print(\" \"*5 + \"메뉴판\")\n",
    "        print(\"*\"*max__name__length*5 + \"***\")\n",
    "        for fish__name in fish__names:\n",
    "            space = (max__name__length - len(fish__name)) * 2           # 메뉴명 길이가 달라서 가격과 메뉴명 사이 간격을 맞춰주기 위한 변수 (글꼴에 따라 결과 다름)\n",
    "            print(f\"* {fish__name} {' '*space} {format(fish__menu[fish__name], ',')}원 *\")\n",
    "        print(\"*\"*max__name__length*5+\"***\")\n",
    "\n",
    "        order__loop = [1]       # kiosk__loop과 동일\n",
    "        isbreak = False         # 주문,취소(종료), 횟수 초과(반복) 판별 위한 변수\n",
    "\n",
    "        for order__count in order__loop:\n",
    "            if order__count > 5:\n",
    "                print(\"주문횟수 초과입니다 처음부터 다시 해주시기 바랍니다!!\")\n",
    "                break\n",
    "            order__loop.append(order__count + 1)\n",
    "            print(\"\\n\\n주문하기\")\n",
    "            print(\"팥, 슈크림, 잡채 붕어빵을 원하는 수량만큼 순서대로 입력해주세요!!\")\n",
    "            print(\"ex) 팥 10개, 슈크림 30개, 잡채 0개: 10 30 0 || 취소: 0 0 0\")\n",
    "            # order = list(map(int, input(\"입력: \").split()))\n",
    "            order__str = input(\"입력: \").split()\n",
    "            print(\"\\n\\n\")\n",
    "            if len(order__str) != 3:\n",
    "                print(\"수량에 맞춰서 입력해주세요!!\")\n",
    "                continue\n",
    "            if not all(s.isdigit() for s in order__str):\n",
    "                print(\"숫자만 입력해주세요!!\")\n",
    "                continue\n",
    "\n",
    "            order__num = list(map(int, order__str))\n",
    "\n",
    "            if all(num == 0 for num in order__num):\n",
    "                print(\"취소되었습니다\")\n",
    "                isbreak = True\n",
    "                break\n",
    "\n",
    "            print(f'주문하신 내역이 맞는지 확인해주세요')\n",
    "            pay__sum = 0\n",
    "            pay__str = ''\n",
    "            for i in range(len(fish__names)):\n",
    "                name = fish__names[i]\n",
    "                num = order__num[i]\n",
    "                print(f\"{name}: {num}개({format(fish__menu[name] * num, ',')}원)\", end=' | ' if i < len(fish__names) - 1 else ' ')\n",
    "                pay__sum += fish__menu[name] * num\n",
    "                pay__str += f\"{name}: {fish__menu[name] * num}원 \"\n",
    "            print(f\"\\n총 결제 금액은 {format(pay__sum, ',')}원 입니다\")\n",
    "            order__check = input('결제(y) 다시주문(n): ').lower()\n",
    "\n",
    "            print('\\n\\n')\n",
    "            if order__check == 'y':\n",
    "                print(\"카드를 꽂아주세요\")\n",
    "                print(f\"결제가 완료되었습니다 붕어빵은 {random.randint(1, 100)}번이 호출되면 픽업대에서 가져가주세요~!!\") # 랜덤 번호 출력\n",
    "                isbreak = True  # 주문이 완료되었으므로 키오스크 종료\n",
    "                break\n",
    "            else:\n",
    "                print(\"다시 주문해주세요\")\n",
    "        if isbreak: # 주문 완료 , 주문 취소시 키오스크 종료\n",
    "            print(\"\\n\\n이용해주셔서 감사합니다. 다음에 또 붕어빵 드시러 오세요~!!\")\n",
    "            break\n",
    "    elif start == 'e':\n",
    "        print(\"이용해주셔서 감사합니다. 다음에 또 붕어빵 드시러 오세요~!!\")\n",
    "        break\n",
    "    else:\n",
    "        print(\"정확하게 입력해주세요\")\n",
    "    kiosk__loop.append(kiosk__count + 1)        # 반복 이용 횟수 올리기"
   ]
  }
 ],
 "metadata": {
  "kernelspec": {
   "display_name": "Python 3",
   "language": "python",
   "name": "python3"
  },
  "language_info": {
   "name": "python",
   "version": "3.12.1"
  }
 },
 "nbformat": 4,
 "nbformat_minor": 2
}
