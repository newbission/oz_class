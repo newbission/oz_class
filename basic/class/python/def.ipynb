{
 "cells": [
  {
   "cell_type": "markdown",
   "metadata": {},
   "source": [
    "# 함수\n",
    "```python\n",
    "# 함수 선언\n",
    "def 함수명():\n",
    "    함수내용\n",
    "\n",
    "def 함수명2(매개변수):\n",
    "    print(매개변수)\n",
    "\n",
    "def 함수명3():\n",
    "    return 내용\n",
    "\n",
    "# 함수 호출\n",
    "함수명()\n",
    "함수명2(매개변수)\n",
    "print(함수명3())\n",
    "```"
   ]
  },
  {
   "cell_type": "code",
   "execution_count": 2,
   "metadata": {},
   "outputs": [
    {
     "name": "stdout",
     "output_type": "stream",
     "text": [
      "양파를 2개 수확했습니다.\n",
      "대파를 3개 수확했습니다.\n",
      "고구마를 33개 수확했습니다.\n"
     ]
    }
   ],
   "source": [
    "# 함수 선언\n",
    "def 양파수확():\n",
    "    return \"양파를 2개 수확했습니다.\"\n",
    "def 대파수확():\n",
    "    print(\"대파를 3개 수확했습니다.\")\n",
    "def 고구마수확(개수):\n",
    "    print(f\"고구마를 {개수}개 수확했습니다.\")\n",
    "# 함수 호출\n",
    "print(양파수확())\n",
    "대파수확()\n",
    "고구마수확(33)"
   ]
  },
  {
   "cell_type": "markdown",
   "metadata": {},
   "source": [
    "# 전역변수 사용\n",
    "전역변수에 접근은 전역변수가 선언된 위치보다 밑에 있다면 어디서든 가능하지만  \n",
    "전역변수의 내용을 수정하려면 `global` 키워드 사용  \n",
    "딕셔너리와 같은 객체 안의 내용은 `global` 없이도 수정 가능\n",
    "객체 자체를 변경하고 싶으면 `global` 필요"
   ]
  },
  {
   "cell_type": "code",
   "execution_count": 8,
   "metadata": {},
   "outputs": [
    {
     "data": {
      "text/plain": [
       "100"
      ]
     },
     "execution_count": 8,
     "metadata": {},
     "output_type": "execute_result"
    }
   ],
   "source": [
    "a = 100\n",
    "def f():\n",
    "    global a\n",
    "    a = a + 1\n",
    "    return a\n",
    "f()"
   ]
  },
  {
   "cell_type": "code",
   "execution_count": 22,
   "metadata": {},
   "outputs": [
    {
     "name": "stdout",
     "output_type": "stream",
     "text": [
      "11300 원 입니다\n",
      "2000 1010\n",
      "{'A': 2000, 'B': 500, 'C': 100, 'D': 1}\n"
     ]
    }
   ],
   "source": [
    "# global 없이 되는게 맞아?\n",
    "won = {'A': 1000, 'B': 500, 'C': 100}\n",
    "def dic(a, b, c):\n",
    "    won['A'] = 2000\n",
    "    return won['A'] * a + won['B'] * b + won['C'] * c\n",
    "a = 1010\n",
    "def without_global():\n",
    "    print(won['A'], a)\n",
    "    won['D'] = 1\n",
    "    print(won)\n",
    "\n",
    "print(dic(5, 2, 3),'원 입니다')\n",
    "without_global()"
   ]
  },
  {
   "cell_type": "code",
   "execution_count": 26,
   "metadata": {},
   "outputs": [
    {
     "ename": "UnboundLocalError",
     "evalue": "cannot access local variable 'l' where it is not associated with a value",
     "output_type": "error",
     "traceback": [
      "\u001b[0;31m---------------------------------------------------------------------------\u001b[0m",
      "\u001b[0;31mUnboundLocalError\u001b[0m                         Traceback (most recent call last)",
      "Cell \u001b[0;32mIn[26], line 8\u001b[0m\n\u001b[1;32m      6\u001b[0m     \u001b[38;5;28mprint\u001b[39m(l)\n\u001b[1;32m      7\u001b[0m     l \u001b[38;5;241m=\u001b[39m []\n\u001b[0;32m----> 8\u001b[0m \u001b[43mf\u001b[49m\u001b[43m(\u001b[49m\u001b[43m)\u001b[49m\n",
      "Cell \u001b[0;32mIn[26], line 4\u001b[0m, in \u001b[0;36mf\u001b[0;34m()\u001b[0m\n\u001b[1;32m      3\u001b[0m \u001b[38;5;28;01mdef\u001b[39;00m \u001b[38;5;21mf\u001b[39m():\n\u001b[0;32m----> 4\u001b[0m     \u001b[38;5;28mprint\u001b[39m(\u001b[43ml\u001b[49m)\n\u001b[1;32m      5\u001b[0m     l\u001b[38;5;241m.\u001b[39mappend(\u001b[38;5;241m5\u001b[39m)\n\u001b[1;32m      6\u001b[0m     \u001b[38;5;28mprint\u001b[39m(l)\n",
      "\u001b[0;31mUnboundLocalError\u001b[0m: cannot access local variable 'l' where it is not associated with a value"
     ]
    }
   ],
   "source": [
    "# dict만 되는거 맞아?\n",
    "l = [1, 2, 3, 4, 5]\n",
    "def f():\n",
    "    print(l)\n",
    "    l.append(5)\n",
    "    print(l)\n",
    "    l = []\n",
    "f()"
   ]
  },
  {
   "cell_type": "code",
   "execution_count": 7,
   "metadata": {},
   "outputs": [
    {
     "name": "stdout",
     "output_type": "stream",
     "text": [
      "15.700000000000001\n"
     ]
    }
   ],
   "source": [
    "# 상수\n",
    "PI = 3.14\n",
    "def f(n):\n",
    "    return n * PI\n",
    "print(f(5))"
   ]
  },
  {
   "cell_type": "code",
   "execution_count": 3,
   "metadata": {},
   "outputs": [
    {
     "name": "stdout",
     "output_type": "stream",
     "text": [
      "A Hello A\n",
      "B Hello B\n"
     ]
    }
   ],
   "source": [
    "# 이중 함수\n",
    "def a():\n",
    "    text = \"Hello A\"\n",
    "    def b():\n",
    "        text = \"Hello B\"\n",
    "        print(\"B\", text)\n",
    "    print(\"A\", text)\n",
    "    b()\n",
    "a()"
   ]
  },
  {
   "cell_type": "code",
   "execution_count": 4,
   "metadata": {},
   "outputs": [
    {
     "name": "stdout",
     "output_type": "stream",
     "text": [
      "1 번째 입장\n",
      "2 번째 입장\n",
      "3 번째 입장\n",
      "4 번째 입장\n",
      "5 번째 입장\n",
      "종료\n"
     ]
    }
   ],
   "source": [
    "# 재귀 함수\n",
    "def rf(n):\n",
    "    if n > 5:\n",
    "        print(\"종료\")\n",
    "        return\n",
    "    print(n, \"번째 입장\")\n",
    "    rf(n+1)\n",
    "rf(1)"
   ]
  }
 ],
 "metadata": {
  "kernelspec": {
   "display_name": "Python 3",
   "language": "python",
   "name": "python3"
  },
  "language_info": {
   "codemirror_mode": {
    "name": "ipython",
    "version": 3
   },
   "file_extension": ".py",
   "mimetype": "text/x-python",
   "name": "python",
   "nbconvert_exporter": "python",
   "pygments_lexer": "ipython3",
   "version": "3.12.1"
  }
 },
 "nbformat": 4,
 "nbformat_minor": 2
}
